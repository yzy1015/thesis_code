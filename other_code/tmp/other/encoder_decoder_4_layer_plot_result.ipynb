{
 "cells": [
  {
   "cell_type": "code",
   "execution_count": 1,
   "metadata": {
    "collapsed": true
   },
   "outputs": [],
   "source": [
    "import numpy as np\n",
    "import tensorflow as tf\n",
    "import matplotlib.pyplot as plt"
   ]
  },
  {
   "cell_type": "markdown",
   "metadata": {},
   "source": [
    "# Define input training data and parameter"
   ]
  },
  {
   "cell_type": "code",
   "execution_count": 2,
   "metadata": {
    "collapsed": true
   },
   "outputs": [],
   "source": [
    "input_signal_num = 1000000 # number of training data\n",
    "input_data = 5*np.random.randn(input_signal_num, 1) # generate # of gaussian dist input\n",
    "mean_w = 0.0 # mean of noise\n",
    "std_w = 1.0 # std of noise\n",
    "k = 0.2"
   ]
  },
  {
   "cell_type": "markdown",
   "metadata": {},
   "source": [
    "# Define encoder and decoder (all in one network)"
   ]
  },
  {
   "cell_type": "code",
   "execution_count": 3,
   "metadata": {
    "collapsed": true
   },
   "outputs": [],
   "source": [
    "# input x\n",
    "x = tf.placeholder(tf.float32, [None, 1])\n",
    "\n",
    "# first neural network (encoder)\n",
    "l1 = tf.layers.dense(inputs = x, units = 512, activation = tf.nn.relu, \n",
    "                    kernel_initializer = tf.random_normal_initializer(0.,.1), \n",
    "                    bias_initializer = tf.constant_initializer(0.1))\n",
    "        \n",
    "l2 = tf.layers.dense(inputs = l1, units = 256, activation = tf.nn.relu, \n",
    "                    kernel_initializer = tf.random_normal_initializer(0.,.1), \n",
    "                    bias_initializer = tf.constant_initializer(0.1))\n",
    "\n",
    "l3_a = tf.layers.dense(inputs = l2, units = 128, activation = tf.nn.relu, \n",
    "                    kernel_initializer = tf.random_normal_initializer(0.,.1), \n",
    "                    bias_initializer = tf.constant_initializer(0.1))\n",
    "\n",
    "l3_ab = tf.layers.dense(inputs = l3_a, units = 64, activation = tf.nn.relu, \n",
    "                    kernel_initializer = tf.random_normal_initializer(0.,.1), \n",
    "                    bias_initializer = tf.constant_initializer(0.1))\n",
    "\n",
    "# output of first neural network\n",
    "u1 = tf.layers.dense(inputs = l3_ab, units = 1,  \n",
    "                             kernel_initializer = tf.random_normal_initializer(0.,.1), \n",
    "                             bias_initializer = tf.constant_initializer(0.1))\n",
    "\n",
    "# gaussian noise\n",
    "w = tf.random_normal([input_signal_num, 1], mean=mean_w, stddev=std_w, dtype=tf.float32, seed=None)\n",
    "\n",
    "# add u1 with gaussian noise\n",
    "y = tf.add(u1, w)\n",
    "\n",
    "# second neural network (decoder)\n",
    "l3 = tf.layers.dense(inputs = y, units = 512, activation = tf.nn.relu, \n",
    "                    kernel_initializer = tf.random_normal_initializer(0.,.1), \n",
    "                    bias_initializer = tf.constant_initializer(0.1))\n",
    "        \n",
    "l4 = tf.layers.dense(inputs = l3, units = 256, activation = tf.nn.relu, \n",
    "                    kernel_initializer = tf.random_normal_initializer(0.,.1), \n",
    "                    bias_initializer = tf.constant_initializer(0.1))\n",
    "\n",
    "l5_a = tf.layers.dense(inputs = l4, units = 128, activation = tf.nn.relu, \n",
    "                    kernel_initializer = tf.random_normal_initializer(0.,.1), \n",
    "                    bias_initializer = tf.constant_initializer(0.1))\n",
    "\n",
    "l5_ab = tf.layers.dense(inputs = l5_a, units = 64, activation = tf.nn.relu, \n",
    "                    kernel_initializer = tf.random_normal_initializer(0.,.1), \n",
    "                    bias_initializer = tf.constant_initializer(0.1))\n",
    "\n",
    "# output of second neural network\n",
    "u2 = tf.layers.dense(inputs = l5_ab, units = 1,  \n",
    "                             kernel_initializer = tf.random_normal_initializer(0.,.1), \n",
    "                             bias_initializer = tf.constant_initializer(0.1))"
   ]
  },
  {
   "cell_type": "markdown",
   "metadata": {},
   "source": [
    "# Define loss function"
   ]
  },
  {
   "cell_type": "code",
   "execution_count": 4,
   "metadata": {
    "collapsed": true
   },
   "outputs": [],
   "source": [
    "loss = k * tf.reduce_mean(tf.square(u1 - x)) + tf.reduce_mean(tf.square(u2 - u1)) # k(u1-x)^2+(u2-u1)^2\n",
    "optimizer = tf.train.AdamOptimizer(0.01).minimize(loss)"
   ]
  },
  {
   "cell_type": "code",
   "execution_count": 5,
   "metadata": {
    "collapsed": true
   },
   "outputs": [],
   "source": [
    "sess = tf.Session()\n",
    "sess.run(tf.global_variables_initializer())"
   ]
  },
  {
   "cell_type": "code",
   "execution_count": 6,
   "metadata": {
    "collapsed": true
   },
   "outputs": [],
   "source": [
    "x_axis = np.array([np.linspace(-15, 15, num=input_signal_num).tolist()]).T"
   ]
  },
  {
   "cell_type": "markdown",
   "metadata": {},
   "source": [
    "# Before optimization with loss function"
   ]
  },
  {
   "cell_type": "code",
   "execution_count": 7,
   "metadata": {
    "collapsed": true
   },
   "outputs": [],
   "source": [
    "y_axis = sess.run(u1, feed_dict = {x:x_axis})"
   ]
  },
  {
   "cell_type": "code",
   "execution_count": 8,
   "metadata": {},
   "outputs": [
    {
     "data": {
      "image/png": "[encoded data removed]",
      "text/plain": [
       "<matplotlib.figure.Figure at 0x7fe34d879940>"
      ]
     },
     "metadata": {},
     "output_type": "display_data"
    }
   ],
   "source": [
    "plt.plot(x_axis[:,0],y_axis[:,0])\n",
    "plt.xlabel('x')\n",
    "plt.ylabel('u1')\n",
    "plt.show()"
   ]
  },
  {
   "cell_type": "code",
   "execution_count": 9,
   "metadata": {
    "scrolled": false
   },
   "outputs": [
    {
     "name": "stdout",
     "output_type": "stream",
     "text": [
      "INFO:tensorflow:Restoring parameters from model.ckpt\n"
     ]
    }
   ],
   "source": [
    "saver=tf.train.Saver()\n",
    "saver.restore(sess,\"model.ckpt\")"
   ]
  },
  {
   "cell_type": "markdown",
   "metadata": {},
   "source": [
    "# After optimization with loss"
   ]
  },
  {
   "cell_type": "code",
   "execution_count": 12,
   "metadata": {},
   "outputs": [
    {
     "data": {
      "image/png": "[encoded data removed]",
      "text/plain": [
       "<matplotlib.figure.Figure at 0x7fe356ad91d0>"
      ]
     },
     "metadata": {},
     "output_type": "display_data"
    }
   ],
   "source": [
    "x_axis = np.array([np.linspace(-30, 30, num=input_signal_num).tolist()]).T\n",
    "y_axis = sess.run(u1, feed_dict = {x:x_axis})\n",
    "plt.plot(x_axis[:,0],y_axis[:,0])\n",
    "plt.xlabel('x')\n",
    "plt.ylabel('\\gamma')\n",
    "plt.show()"
   ]
  },
  {
   "cell_type": "code",
   "execution_count": null,
   "metadata": {
    "collapsed": true
   },
   "outputs": [],
   "source": []
  }
 ],
 "metadata": {
  "kernelspec": {
   "display_name": "Python 3",
   "language": "python",
   "name": "python3"
  },
  "language_info": {
   "codemirror_mode": {
    "name": "ipython",
    "version": 3
   },
   "file_extension": ".py",
   "mimetype": "text/x-python",
   "name": "python",
   "nbconvert_exporter": "python",
   "pygments_lexer": "ipython3",
   "version": "3.6.2"
  }
 },
 "nbformat": 4,
 "nbformat_minor": 2
}
