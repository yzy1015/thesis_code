{
 "cells": [
  {
   "cell_type": "code",
   "execution_count": 1,
   "metadata": {
    "collapsed": true
   },
   "outputs": [],
   "source": [
    "import sys\n",
    "sys.path.insert(0, './py_torch_trpo')\n",
    "import gym\n",
    "import scipy.optimize\n",
    "import roboschool\n",
    "from agent_file_random_mask import agent\n",
    "import numpy as np\n",
    "import random\n",
    "from expert import *\n",
    "import matplotlib.pyplot as plt\n",
    "import time\n",
    "import pandas as pd\n",
    "import seaborn as sns\n",
    "from gym import spaces\n",
    "np.random.seed(0)\n",
    "plt.style.use('seaborn-white')\n",
    "sns.set(context = \"paper\", font = \"monospace\")\n",
    "sns.set(context = \"paper\", font = \"monospace\", font_scale=2)"
   ]
  },
  {
   "cell_type": "markdown",
   "metadata": {},
   "source": [
    "# define an observer (new agent) and save running state"
   ]
  },
  {
   "cell_type": "code",
   "execution_count": 2,
   "metadata": {},
   "outputs": [
    {
     "name": "stderr",
     "output_type": "stream",
     "text": [
      "[2018-04-14 18:34:20,823] Making new env: RoboschoolInvertedPendulum-v1\n"
     ]
    }
   ],
   "source": [
    "class par(object):\n",
    "    def __init__(self):\n",
    "        self.gamma = 0.995\n",
    "        self.env_name = \"Reacher-v1\"\n",
    "        self.tau = 0.97\n",
    "        self.l2_reg = 1e-3\n",
    "        self.max_kl = 1e-2\n",
    "        self.damping = 1e-1\n",
    "        self.seed = 543\n",
    "        self.batch_size = 10000\n",
    "        self.max_epi = 6000\n",
    "        self.log_interval = 1\n",
    "        self.max_avg = 999\n",
    "        \n",
    "args = par()\n",
    "env = gym.make(\"RoboschoolInvertedPendulum-v1\")\n",
    "agn = agent(env, args)\n"
   ]
  },
  {
   "cell_type": "code",
   "execution_count": 3,
   "metadata": {},
   "outputs": [
    {
     "name": "stdout",
     "output_type": "stream",
     "text": [
      "Episode 0\tLast reward: 48.0\tAverage reward 24.20\n",
      "('lagrange multiplier:', 1.0321414420617236, 'grad_norm:', 0.13293154346743746)\n",
      "fval before -1.2277866795341241e-14\n",
      "a/e/r 0.021046113399640087 0.020642828841237373 1.0195363029701185\n",
      "fval after -0.021046113399652365\n",
      "Episode 1\tLast reward: 35.0\tAverage reward 32.80\n",
      "('lagrange multiplier:', 1.510261683298849, 'grad_norm:', 0.19737407212674327)\n",
      "fval before -1.3668241023054062e-15\n",
      "a/e/r 0.034356495990178496 0.030205233665855306 1.1374351998149206\n",
      "fval after -0.03435649599017986\n",
      "Episode 2\tLast reward: 80.0\tAverage reward 47.55\n",
      "('lagrange multiplier:', 1.6597392809176792, 'grad_norm:', 0.24924679462006488)\n",
      "fval before -3.036525478466597e-17\n",
      "a/e/r 0.03626034220153359 0.03319478561853488 1.0923505462040701\n",
      "fval after -0.03626034220153362\n",
      "Episode 3\tLast reward: 175.0\tAverage reward 96.62\n",
      "('lagrange multiplier:', 1.5493047454940636, 'grad_norm:', 0.24874981976170288)\n",
      "fval before -7.367336035532501e-16\n",
      "a/e/r 0.03187502202019574 0.030986094910028482 1.0286879360806307\n",
      "fval after -0.03187502202019647\n",
      "Episode 4\tLast reward: 132.0\tAverage reward 169.72\n",
      "('lagrange multiplier:', 1.095770642205726, 'grad_norm:', 0.19943354605988134)\n",
      "fval before -3.2798079287328165e-16\n",
      "a/e/r 0.02185008308168939 0.021915411260624903 0.9970190758385226\n",
      "fval after -0.02185008308168972\n",
      "Episode 5\tLast reward: 848.0\tAverage reward 362.53\n",
      "('lagrange multiplier:', 0.8366030313551842, 'grad_norm:', 0.18592143369885913)\n",
      "fval before -2.079371369217951e-15\n",
      "a/e/r 0.01800388339748342 0.01673206187116633 1.07601104610477\n",
      "fval after -0.018003883397485498\n",
      "Episode 6\tLast reward: 918.0\tAverage reward 660.75\n",
      "('lagrange multiplier:', 0.794181029553169, 'grad_norm:', 0.2562779324085147)\n",
      "fval before -1.80752541617936e-16\n",
      "a/e/r 0.01621572976389464 0.015883636164683447 1.0209079077213812\n",
      "fval after -0.01621572976389482\n",
      "Episode 7\tLast reward: 1000.0\tAverage reward 1000.00\n"
     ]
    }
   ],
   "source": [
    "agn.learn()"
   ]
  },
  {
   "cell_type": "code",
   "execution_count": null,
   "metadata": {},
   "outputs": [
    {
     "name": "stdout",
     "output_type": "stream",
     "text": [
      "1000.0\n",
      "1000.0\n",
      "1000.0\n",
      "1000.0\n",
      "1000.0\n",
      "1000.0\n",
      "1000.0\n",
      "1000.0\n",
      "1000.0\n",
      "1000.0\n",
      "1000.0\n",
      "1000.0\n",
      "1000.0\n",
      "1000.0\n",
      "1000.0\n",
      "1000.0\n",
      "1000.0\n",
      "1000.0\n",
      "1000.0\n",
      "1000.0\n",
      "1000.0\n",
      "1000.0\n",
      "1000.0\n",
      "1000.0\n",
      "1000.0\n",
      "1000.0\n",
      "1000.0\n",
      "1000.0\n",
      "1000.0\n",
      "1000.0\n",
      "1000.0\n",
      "1000.0\n",
      "1000.0\n",
      "1000.0\n",
      "1000.0\n",
      "1000.0\n",
      "1000.0\n",
      "1000.0\n",
      "1000.0\n"
     ]
    }
   ],
   "source": [
    "for i in range(1000):\n",
    "    score = 0\n",
    "    obs = env.reset()\n",
    "    done = False\n",
    "    itr = 0\n",
    "    do = False\n",
    "    while done == False:   \n",
    "        a = agn.select_action_deterministic(obs)\n",
    "        obs, r, done, _ = env.step(a)\n",
    "        obs[1]  = obs[1] - 0.2\n",
    "        if done:\n",
    "            do = True\n",
    "\n",
    "        score += r\n",
    "\n",
    "    print(score)"
   ]
  },
  {
   "cell_type": "code",
   "execution_count": null,
   "metadata": {
    "collapsed": true
   },
   "outputs": [],
   "source": []
  }
 ],
 "metadata": {
  "kernelspec": {
   "display_name": "Python 3",
   "language": "python",
   "name": "python3"
  },
  "language_info": {
   "codemirror_mode": {
    "name": "ipython",
    "version": 3
   },
   "file_extension": ".py",
   "mimetype": "text/x-python",
   "name": "python",
   "nbconvert_exporter": "python",
   "pygments_lexer": "ipython3",
   "version": "3.6.2"
  }
 },
 "nbformat": 4,
 "nbformat_minor": 2
}
