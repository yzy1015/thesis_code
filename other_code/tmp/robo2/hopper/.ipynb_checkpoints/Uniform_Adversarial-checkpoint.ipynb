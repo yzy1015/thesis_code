{
 "cells": [
  {
   "cell_type": "code",
   "execution_count": 1,
   "metadata": {
    "collapsed": true
   },
   "outputs": [],
   "source": [
    "import gym\n",
    "import scipy.optimize\n",
    "import roboschool\n",
    "import numpy as np\n",
    "import random\n",
    "import matplotlib.pyplot as plt\n",
    "import time\n",
    "import pandas as pd\n",
    "import seaborn as sns\n",
    "from gym import spaces\n",
    "plt.style.use('seaborn-white')\n",
    "sns.set(context = \"paper\", font = \"monospace\")\n",
    "sns.set(context = \"paper\", font = \"monospace\", font_scale=2)\n",
    "import tensorflow as tf\n",
    "import numpy as np\n",
    "import matplotlib.pyplot as plt\n",
    "import pandas as pd\n",
    "import seaborn as sns\n",
    "plt.style.use('seaborn-white')\n",
    "from baselines.common import set_global_seeds, tf_util as U\n",
    "from baselines import bench\n",
    "import gym, logging\n",
    "import roboschool\n",
    "from baselines import logger\n",
    "from baselines.ppo1 import mlp_policy, pposgd_simple\n",
    "from base_line_model.mlp import MlpPolicy_new\n",
    "from base_line_model.PPO_agent import learning_agent\n",
    "sns.set(context = \"paper\", font = \"monospace\", font_scale=2)"
   ]
  },
  {
   "cell_type": "code",
   "execution_count": 2,
   "metadata": {},
   "outputs": [
    {
     "name": "stderr",
     "output_type": "stream",
     "text": [
      "[2018-04-14 17:13:48,665] Making new env: RoboschoolHopper-v1\n"
     ]
    },
    {
     "name": "stdout",
     "output_type": "stream",
     "text": [
      "Logging to /tmp/openai-2018-04-14-17-13-48-671029\n"
     ]
    }
   ],
   "source": [
    "env = gym.make(\"RoboschoolHopper-v1\")\n",
    "env.seed(0)\n",
    "np.random.seed(0)\n",
    "\n",
    "seed = 1\n",
    "logger.configure()\n",
    "U.make_session(num_cpu=16).__enter__()\n",
    "set_global_seeds(seed)"
   ]
  },
  {
   "cell_type": "code",
   "execution_count": 3,
   "metadata": {},
   "outputs": [
    {
     "name": "stderr",
     "output_type": "stream",
     "text": [
      "[2018-04-14 17:13:48,705] Making new env: RoboschoolHopper-v1\n"
     ]
    },
    {
     "name": "stdout",
     "output_type": "stream",
     "text": [
      "<tensorflow.python.client.session.Session object at 0x7f92535eacf8>\n",
      "INFO:tensorflow:Restoring parameters from hopper_mem/data\n"
     ]
    },
    {
     "name": "stderr",
     "output_type": "stream",
     "text": [
      "[2018-04-14 17:13:49,423] Restoring parameters from hopper_mem/data\n"
     ]
    }
   ],
   "source": [
    "env2 = gym.make('RoboschoolHopper-v1')\n",
    "env2 = bench.Monitor(env2, logger.get_dir(),allow_early_resets=True)\n",
    "env2.seed(seed)\n",
    "gym.logger.setLevel(logging.WARN)\n",
    "class pargm(object):\n",
    "    def __init__(self):\n",
    "        self.timesteps_per_actorbatch = 25000#25000 # timesteps per actor per update\n",
    "        self.clip_param = 0.2 \n",
    "        self.entcoeff = 0.0 # clipping parameter epsilon, entropy coeff\n",
    "        self.optim_epochs = 10 \n",
    "        self.optim_stepsize = 3e-4\n",
    "        self.optim_batchsize = 64# optimization hypers\n",
    "        self.gamma = 0.99\n",
    "        self.lam = 0.95 # advantage estimation\n",
    "        self.max_timesteps=10e8#1e10 \n",
    "        self.max_episodes=0 \n",
    "        self.max_iters=0 \n",
    "        self.max_seconds=0  # time constraint\n",
    "        self.callback=None # you can do anything in the callback, since it takes locals(), globals()\n",
    "        self.adam_epsilon=1e-5\n",
    "        self.schedule='linear' # annealing for stepsize parameters (epsilon and adam)\n",
    "\n",
    "\n",
    "def policy_fn(name, ob_space, ac_space):\n",
    "        return MlpPolicy_new(name=name, ob_space=ob_space, ac_space=ac_space,\n",
    "            hid_size=64, num_hid_layers=2)\n",
    "    \n",
    "parg = pargm()\n",
    "agent = learning_agent('pi2', env2, policy_fn, parg)\n",
    "agent.restore('hopper_mem')"
   ]
  },
  {
   "cell_type": "code",
   "execution_count": 4,
   "metadata": {
    "collapsed": true
   },
   "outputs": [],
   "source": [
    "class action_space(object):\n",
    "    def __init__(self, env):\n",
    "        self.env = env\n",
    "        self.high = np.array([ 1,  1,  1,  1,  1])\n",
    "        self.low = -np.array([ 1,  1,  1,  1,  1])\n",
    "        self.shape = env.observation_space.shape\n",
    "    \n",
    "    def sample(self):\n",
    "    \n",
    "        return self.env.observation_space.sample()\n",
    "        \n",
    "        \n",
    "class adversial_env(object):\n",
    "    def __init__(self,ag):\n",
    "        # parameter\n",
    "        self.env = gym.make(\"RoboschoolHopper-v1\")\n",
    "        self.env.seed(0)\n",
    "        self.ratio = 0.15\n",
    "        self.threshold = np.array([ 0.13563991,  0.        ,  0.        ,  0.63022727,  0.        ,\n",
    "        0.4455283 ,  0.        ,  0.10436863,  0.08628476,  0.22765335,\n",
    "        0.17268705,  0.29754525,  0.64068675,  0.65350312,  0.49892119])\n",
    "        self.max_turn = 1000\n",
    "        self.combine_ratio = 0.05\n",
    "        \n",
    "        self.action_space = spaces.Box(low=-1, high=1, shape=(self.env.observation_space.shape[0],))\n",
    "        self.observation_space = self.env.observation_space\n",
    "        self.agent = ag\n",
    "        self.obsr = 0\n",
    "        self.epi_num = 0\n",
    "        self.total_score = 0\n",
    "        self.first = True\n",
    "        self.run_avg = 0\n",
    "        self.rvg_list = []\n",
    "        self.score_list = []\n",
    "        self.epi_list = []\n",
    "        self.env.metadata\n",
    "    \n",
    "    # define reward function\n",
    "    def reward(self, st):\n",
    "        return np.abs(st[3])+0.2*np.abs(st[1])-0.08\n",
    "    \n",
    "    def step(self, a):\n",
    "        self.epi_num = self.epi_num + 1\n",
    "        \n",
    "        obs = np.clip(a,-1,1)*self.threshold*self.ratio + self.obsr\n",
    "        \n",
    "        ac = self.agent.action_ev(obs)\n",
    "        self.obsr, r, done, _ = self.env.step(ac)\n",
    "        #print( np.clip(a,-1,1),np.clip(a,-1,1)*self.ratio)\n",
    "        \n",
    "        if self.epi_num >= self.max_turn:\n",
    "            done = True\n",
    "        \n",
    "        if self.first and done: ###################################\n",
    "            self.first = False\n",
    "            self.run_avg = self.total_score\n",
    "            self.score_list = [self.total_score]\n",
    "            self.epi_list = [self.epi_num]\n",
    "            print(self.run_avg, self.score_list, self.epi_list)\n",
    "            \n",
    "        \n",
    "        final_r = -r\n",
    "        if done and self.epi_num < self.max_turn:\n",
    "            final_r = 0 # terminal cost \n",
    "        \n",
    "        self.total_score += final_r\n",
    "        return self.obsr, final_r, done, 0\n",
    "        \n",
    "        \n",
    "    def seed(self, a):\n",
    "        pass\n",
    "    \n",
    "    def reset(self):\n",
    "        self.obsr = self.env.reset()\n",
    "        #print(self.total_score)\n",
    "        self.run_avg = (self.combine_ratio*self.total_score) + (1-self.combine_ratio)*self.run_avg\n",
    "        #print(self.run_avg)\n",
    "        #print(self.epi_num)\n",
    "        \n",
    "        if not self.first: #########################################\n",
    "            self.rvg_list.append(self.run_avg)\n",
    "            self.score_list.append(self.total_score)\n",
    "            self.epi_list.append(self.epi_num)\n",
    "        \n",
    "        self.epi_num = 0\n",
    "        self.total_score = 0\n",
    "        return self.obsr\n",
    "    \n",
    "    def result_plot(self):\n",
    "        fon_size = 19\n",
    "        x = list(range(0, len(self.score_list[1:])))\n",
    "        fig=plt.figure(figsize=(18, 4), dpi= 80, facecolor='w', edgecolor='k')\n",
    "        plt.subplot(1,2,1)\n",
    "        plt.scatter(x,self.score_list[1:], s=5)\n",
    "        plt.xlabel('episodes',fontsize=fon_size)\n",
    "        plt.ylabel('cumulative reward',fontsize=fon_size)\n",
    "        #plt.subplot(1,3,2)\n",
    "        #plt.plot(self.rvg_list[1:])\n",
    "        #plt.xlabel('episodes')\n",
    "        #plt.ylabel('running average reward')\n",
    "        plt.subplot(1,2,2)\n",
    "        x = list(range(0, len(self.epi_list)))\n",
    "        plt.scatter(x,self.epi_list, s=5)\n",
    "        plt.xlabel('episodes',fontsize=fon_size)\n",
    "        plt.ylabel('time steps',fontsize=fon_size)\n",
    "        plt.ylim([0,1200])\n",
    "        plt.show()"
   ]
  },
  {
   "cell_type": "markdown",
   "metadata": {},
   "source": [
    "# Agent evaluation"
   ]
  },
  {
   "cell_type": "code",
   "execution_count": 5,
   "metadata": {
    "scrolled": true
   },
   "outputs": [
    {
     "name": "stdout",
     "output_type": "stream",
     "text": [
      "-2821.2505522636375 [-2821.2505522636375] [1000]\n"
     ]
    }
   ],
   "source": [
    "env = adversial_env(agent)\n",
    "for i in range(1000):\n",
    "    score = 0\n",
    "    obs = env.reset()\n",
    "    done = False\n",
    "    itr = 0\n",
    "    do = False\n",
    "    time = 0\n",
    "    while done == False:   \n",
    "        a = np.random.uniform(-1,1,15)\n",
    "        time +=1\n",
    "        obs, r, done, _ = env.step(a)\n",
    "        if done:\n",
    "            do = True\n",
    "\n",
    "        score += r"
   ]
  },
  {
   "cell_type": "code",
   "execution_count": 6,
   "metadata": {},
   "outputs": [
    {
     "data": {
      "image/png": "[encoded data removed]",
      "text/plain": [
       "<matplotlib.figure.Figure at 0x7f923846a240>"
      ]
     },
     "metadata": {},
     "output_type": "display_data"
    }
   ],
   "source": [
    "env.result_plot()"
   ]
  },
  {
   "cell_type": "code",
   "execution_count": 8,
   "metadata": {},
   "outputs": [
    {
     "data": {
      "text/plain": [
       "-2681.7502362626251"
      ]
     },
     "execution_count": 8,
     "metadata": {},
     "output_type": "execute_result"
    }
   ],
   "source": [
    "np.mean(env.score_list)"
   ]
  },
  {
   "cell_type": "code",
   "execution_count": null,
   "metadata": {
    "collapsed": true
   },
   "outputs": [],
   "source": []
  }
 ],
 "metadata": {
  "kernelspec": {
   "display_name": "Python 3",
   "language": "python",
   "name": "python3"
  },
  "language_info": {
   "codemirror_mode": {
    "name": "ipython",
    "version": 3
   },
   "file_extension": ".py",
   "mimetype": "text/x-python",
   "name": "python",
   "nbconvert_exporter": "python",
   "pygments_lexer": "ipython3",
   "version": "3.6.2"
  }
 },
 "nbformat": 4,
 "nbformat_minor": 2
}
