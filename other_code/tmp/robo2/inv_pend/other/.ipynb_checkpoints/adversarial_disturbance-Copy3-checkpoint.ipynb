{
 "cells": [
  {
   "cell_type": "code",
   "execution_count": 1,
   "metadata": {
    "collapsed": true
   },
   "outputs": [],
   "source": [
    "import gym\n",
    "import scipy.optimize\n",
    "import roboschool\n",
    "from agent_file import agent\n",
    "import numpy as np\n",
    "import random\n",
    "from expert import *\n",
    "import matplotlib.pyplot as plt\n",
    "import time\n",
    "import pandas as pd\n",
    "import seaborn as sns\n",
    "from gym import spaces\n",
    "plt.style.use('seaborn-white')"
   ]
  },
  {
   "cell_type": "code",
   "execution_count": 2,
   "metadata": {
    "collapsed": true
   },
   "outputs": [],
   "source": [
    "class action_space(object):\n",
    "    def __init__(self, env):\n",
    "        self.env = env\n",
    "        self.high = np.array([ 1,  1,  1,  1,  1])\n",
    "        self.low = -np.array([ 1,  1,  1,  1,  1])\n",
    "        self.shape = env.observation_space.shape\n",
    "    \n",
    "    def sample(self):\n",
    "    \n",
    "        return self.env.observation_space.sample()\n",
    "        \n",
    "        \n",
    "class adversial_env(object):\n",
    "    def __init__(self):\n",
    "        # parameter\n",
    "        self.env = gym.make(\"RoboschoolInvertedPendulum-v1\")\n",
    "        self.ratio = 1\n",
    "        self.threshold = np.array([ 0.13973436,  0.07678319,  0.00016729,  0.00046861,  0.02336518])\n",
    "        self.max_turn = 1000\n",
    "        self.combine_ratio = 0.05\n",
    "        \n",
    "        self.action_space = spaces.Box(low=-1, high=1, shape=(self.env.observation_space.shape[0],))\n",
    "        self.observation_space = self.env.observation_space\n",
    "        self.agent = SmallReactivePolicy(self.env.observation_space, self.env.action_space) # declare sample trained agent\n",
    "        self.obsr = 0\n",
    "        self.epi_num = 0\n",
    "        self.total_score = 0\n",
    "        self.first = True\n",
    "        self.run_avg = 0\n",
    "        self.rvg_list = []\n",
    "        self.score_list = []\n",
    "        self.epi_list = []\n",
    "        self.env.metadata\n",
    "    \n",
    "    # define reward function\n",
    "    def reward(self, st):\n",
    "        return np.abs(st[3])-0.08#(np.abs(st[3])-0.00786861)*100\n",
    "    \n",
    "    def step(self, a):\n",
    "        self.epi_num = self.epi_num + 1\n",
    "        \n",
    "        obs = 1*self.threshold*self.ratio + self.obsr\n",
    "        \n",
    "        ac = self.agent.act(obs)\n",
    "        self.obsr, r, done, _ = self.env.step(ac)\n",
    "        #print( np.clip(a,-1,1),np.clip(a,-1,1)*self.ratio)\n",
    "        \n",
    "        if self.epi_num >= self.max_turn:\n",
    "            done = True\n",
    "        \n",
    "        if self.first and done: ###################################\n",
    "            self.first = False\n",
    "            self.run_avg = self.total_score\n",
    "            self.score_list = [self.total_score]\n",
    "            self.epi_list = [self.epi_num]\n",
    "            print(self.run_avg, self.score_list, self.epi_list)\n",
    "            \n",
    "        \n",
    "        final_r = self.reward(self.obsr)\n",
    "        if done and self.epi_num < self.max_turn:\n",
    "            final_r = 15 # terminal cost \n",
    "        \n",
    "        self.total_score += final_r\n",
    "        return self.obsr, final_r, done, 0\n",
    "        \n",
    "        \n",
    "    def seed(self, a):\n",
    "        pass\n",
    "    \n",
    "    def reset(self):\n",
    "        self.obsr = self.env.reset()\n",
    "        #print(self.total_score)\n",
    "        self.run_avg = (self.combine_ratio*self.total_score) + (1-self.combine_ratio)*self.run_avg\n",
    "        #print(self.run_avg)\n",
    "        #print(self.epi_num)\n",
    "        \n",
    "        if not self.first: #########################################\n",
    "            self.rvg_list.append(self.run_avg)\n",
    "            self.score_list.append(self.total_score)\n",
    "            self.epi_list.append(self.epi_num)\n",
    "        \n",
    "        self.epi_num = 0\n",
    "        self.total_score = 0\n",
    "        return self.obsr\n",
    "    \n",
    "    def result_plot(self):\n",
    "        fig=plt.figure(figsize=(18, 4), dpi= 80, facecolor='w', edgecolor='k')\n",
    "        plt.subplot(1,3,1)\n",
    "        plt.plot(self.score_list[0:])\n",
    "        plt.xlabel('episodes')\n",
    "        plt.ylabel('cumulative reward')\n",
    "        plt.subplot(1,3,2)\n",
    "        plt.plot(self.rvg_list[0:])\n",
    "        plt.xlabel('episodes')\n",
    "        plt.ylabel('running average reward')\n",
    "        plt.subplot(1,3,3)\n",
    "        plt.plot(self.epi_list)\n",
    "        plt.xlabel('episodes')\n",
    "        plt.ylabel('number of time steps')\n",
    "        plt.show()"
   ]
  },
  {
   "cell_type": "markdown",
   "metadata": {},
   "source": [
    "# define an observer (new agent)"
   ]
  },
  {
   "cell_type": "code",
   "execution_count": 3,
   "metadata": {},
   "outputs": [
    {
     "name": "stderr",
     "output_type": "stream",
     "text": [
      "[2018-01-27 20:05:22,953] Making new env: RoboschoolInvertedPendulum-v1\n"
     ]
    }
   ],
   "source": [
    "class par(object):\n",
    "    def __init__(self):\n",
    "        self.gamma = 0.995\n",
    "        self.env_name = \"Reacher-v1\"\n",
    "        self.tau = 0.97\n",
    "        self.l2_reg = 1e-3\n",
    "        self.max_kl = 1e-2\n",
    "        self.damping = 1e-1\n",
    "        self.seed = 543\n",
    "        self.batch_size = 15000\n",
    "        self.max_epi = 6000\n",
    "        self.log_interval = 1\n",
    "        self.max_avg = -5\n",
    "        \n",
    "args = par()\n",
    "env = adversial_env()\n",
    "agn = agent(env, args)"
   ]
  },
  {
   "cell_type": "markdown",
   "metadata": {},
   "source": [
    "# Agent training"
   ]
  },
  {
   "cell_type": "markdown",
   "metadata": {
    "scrolled": true
   },
   "source": [
    "agn.learn()"
   ]
  },
  {
   "cell_type": "code",
   "execution_count": null,
   "metadata": {},
   "outputs": [
    {
     "data": {
      "image/png": "[encoded data removed]",
      "text/plain": [
       "<matplotlib.figure.Figure at 0x7f61498aa630>"
      ]
     },
     "metadata": {},
     "output_type": "display_data"
    }
   ],
   "source": [
    "env.result_plot()"
   ]
  },
  {
   "cell_type": "markdown",
   "metadata": {},
   "source": [
    "# Agent evaluation"
   ]
  },
  {
   "cell_type": "code",
   "execution_count": null,
   "metadata": {
    "scrolled": true
   },
   "outputs": [
    {
     "name": "stderr",
     "output_type": "stream",
     "text": [
      "[2018-01-27 20:05:23,605] Making new env: RoboschoolInvertedPendulum-v1\n"
     ]
    },
    {
     "name": "stdout",
     "output_type": "stream",
     "text": [
      "-28.1238509931 [-28.123850993114861] [447]\n"
     ]
    }
   ],
   "source": [
    "env = adversial_env()\n",
    "for i in range(100):\n",
    "    score = 0\n",
    "    obs = env.reset()\n",
    "    done = False\n",
    "    itr = 0\n",
    "    do = False\n",
    "    time = 0\n",
    "    while done == False:   \n",
    "        a = agn.select_action_deterministic(obs)\n",
    "        time +=1\n",
    "        obs, r, done, _ = env.step(a)\n",
    "        if done:\n",
    "            do = True\n",
    "\n",
    "        score += r"
   ]
  },
  {
   "cell_type": "code",
   "execution_count": null,
   "metadata": {},
   "outputs": [],
   "source": [
    "env.result_plot()"
   ]
  },
  {
   "cell_type": "markdown",
   "metadata": {},
   "source": [
    "# Save model"
   ]
  },
  {
   "cell_type": "code",
   "execution_count": null,
   "metadata": {
    "collapsed": true
   },
   "outputs": [],
   "source": [
    "agn.save_model('agent_model/adversarial_agent2_distr')"
   ]
  },
  {
   "cell_type": "code",
   "execution_count": null,
   "metadata": {},
   "outputs": [],
   "source": [
    "env.total_score"
   ]
  },
  {
   "cell_type": "code",
   "execution_count": null,
   "metadata": {
    "collapsed": true
   },
   "outputs": [],
   "source": []
  }
 ],
 "metadata": {
  "kernelspec": {
   "display_name": "Python 3",
   "language": "python",
   "name": "python3"
  },
  "language_info": {
   "codemirror_mode": {
    "name": "ipython",
    "version": 3
   },
   "file_extension": ".py",
   "mimetype": "text/x-python",
   "name": "python",
   "nbconvert_exporter": "python",
   "pygments_lexer": "ipython3",
   "version": "3.6.2"
  }
 },
 "nbformat": 4,
 "nbformat_minor": 2
}
